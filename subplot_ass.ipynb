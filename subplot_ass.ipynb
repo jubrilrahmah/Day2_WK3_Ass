{
  "nbformat": 4,
  "nbformat_minor": 0,
  "metadata": {
    "colab": {
      "provenance": [],
      "collapsed_sections": [],
      "authorship_tag": "ABX9TyNuAOTRpHB+YwMC9SQCozue",
      "include_colab_link": true
    },
    "kernelspec": {
      "name": "python3",
      "display_name": "Python 3"
    },
    "language_info": {
      "name": "python"
    }
  },
  "cells": [
    {
      "cell_type": "markdown",
      "metadata": {
        "id": "view-in-github",
        "colab_type": "text"
      },
      "source": [
        "<a href=\"https://colab.research.google.com/github/jubrilrahmah/Week_day_Ass/blob/master/subplot_ass.ipynb\" target=\"_parent\"><img src=\"https://colab.research.google.com/assets/colab-badge.svg\" alt=\"Open In Colab\"/></a>"
      ]
    },
    {
      "cell_type": "code",
      "execution_count": 1,
      "metadata": {
        "id": "Gofiv4bZkEkc",
        "colab": {
          "base_uri": "https://localhost:8080/"
        },
        "outputId": "f5138880-e72a-437c-8fcf-5b2fea8e4e71"
      },
      "outputs": [
        {
          "output_type": "stream",
          "name": "stdout",
          "text": [
            "Mounted at /content/drive\n"
          ]
        }
      ],
      "source": [
        "from google.colab import drive\n",
        "drive.mount(\"/content/drive\")"
      ]
    },
    {
      "cell_type": "code",
      "source": [
        "#import libraries\n",
        "import pandas as pd\n",
        "import numpy as np\n",
        "import matplotlib.pyplot as plt\n",
        "\n",
        "\n",
        "import matplotlib.pyplot as plt\n",
        "from importlib import reload\n",
        "plt=reload(plt)"
      ],
      "metadata": {
        "id": "GR5k2lPDk157"
      },
      "execution_count": 2,
      "outputs": []
    },
    {
      "cell_type": "code",
      "source": [
        "a_df = pd.read_csv(\"/content/drive/MyDrive/Pasndas_intro/anscombe_quartet_data.csv\")\n",
        "\n",
        "#check the file\n",
        "a_df.head()"
      ],
      "metadata": {
        "id": "wl8wet_GkqNB",
        "colab": {
          "base_uri": "https://localhost:8080/",
          "height": 206
        },
        "outputId": "497930c3-972f-44a3-8698-bee1aa70f5ff"
      },
      "execution_count": 3,
      "outputs": [
        {
          "output_type": "execute_result",
          "data": {
            "text/plain": [
              "   x1    y1  x2    y2  x3     y3  x4    y4\n",
              "0  10  8.04  10  9.14  10   7.46   8  6.58\n",
              "1   8  6.95   8  8.14   8   6.77   8  5.76\n",
              "2  13  7.58  13  8.74  13  12.74   8  7.71\n",
              "3   9  8.81   9  8.77   9   7.11   8  8.84\n",
              "4  11  8.33  11  9.26  11   7.81   8  8.47"
            ],
            "text/html": [
              "\n",
              "  <div id=\"df-8cbb1656-d4a0-4ef4-bcbf-3fe8e0cb16a7\">\n",
              "    <div class=\"colab-df-container\">\n",
              "      <div>\n",
              "<style scoped>\n",
              "    .dataframe tbody tr th:only-of-type {\n",
              "        vertical-align: middle;\n",
              "    }\n",
              "\n",
              "    .dataframe tbody tr th {\n",
              "        vertical-align: top;\n",
              "    }\n",
              "\n",
              "    .dataframe thead th {\n",
              "        text-align: right;\n",
              "    }\n",
              "</style>\n",
              "<table border=\"1\" class=\"dataframe\">\n",
              "  <thead>\n",
              "    <tr style=\"text-align: right;\">\n",
              "      <th></th>\n",
              "      <th>x1</th>\n",
              "      <th>y1</th>\n",
              "      <th>x2</th>\n",
              "      <th>y2</th>\n",
              "      <th>x3</th>\n",
              "      <th>y3</th>\n",
              "      <th>x4</th>\n",
              "      <th>y4</th>\n",
              "    </tr>\n",
              "  </thead>\n",
              "  <tbody>\n",
              "    <tr>\n",
              "      <th>0</th>\n",
              "      <td>10</td>\n",
              "      <td>8.04</td>\n",
              "      <td>10</td>\n",
              "      <td>9.14</td>\n",
              "      <td>10</td>\n",
              "      <td>7.46</td>\n",
              "      <td>8</td>\n",
              "      <td>6.58</td>\n",
              "    </tr>\n",
              "    <tr>\n",
              "      <th>1</th>\n",
              "      <td>8</td>\n",
              "      <td>6.95</td>\n",
              "      <td>8</td>\n",
              "      <td>8.14</td>\n",
              "      <td>8</td>\n",
              "      <td>6.77</td>\n",
              "      <td>8</td>\n",
              "      <td>5.76</td>\n",
              "    </tr>\n",
              "    <tr>\n",
              "      <th>2</th>\n",
              "      <td>13</td>\n",
              "      <td>7.58</td>\n",
              "      <td>13</td>\n",
              "      <td>8.74</td>\n",
              "      <td>13</td>\n",
              "      <td>12.74</td>\n",
              "      <td>8</td>\n",
              "      <td>7.71</td>\n",
              "    </tr>\n",
              "    <tr>\n",
              "      <th>3</th>\n",
              "      <td>9</td>\n",
              "      <td>8.81</td>\n",
              "      <td>9</td>\n",
              "      <td>8.77</td>\n",
              "      <td>9</td>\n",
              "      <td>7.11</td>\n",
              "      <td>8</td>\n",
              "      <td>8.84</td>\n",
              "    </tr>\n",
              "    <tr>\n",
              "      <th>4</th>\n",
              "      <td>11</td>\n",
              "      <td>8.33</td>\n",
              "      <td>11</td>\n",
              "      <td>9.26</td>\n",
              "      <td>11</td>\n",
              "      <td>7.81</td>\n",
              "      <td>8</td>\n",
              "      <td>8.47</td>\n",
              "    </tr>\n",
              "  </tbody>\n",
              "</table>\n",
              "</div>\n",
              "      <button class=\"colab-df-convert\" onclick=\"convertToInteractive('df-8cbb1656-d4a0-4ef4-bcbf-3fe8e0cb16a7')\"\n",
              "              title=\"Convert this dataframe to an interactive table.\"\n",
              "              style=\"display:none;\">\n",
              "        \n",
              "  <svg xmlns=\"http://www.w3.org/2000/svg\" height=\"24px\"viewBox=\"0 0 24 24\"\n",
              "       width=\"24px\">\n",
              "    <path d=\"M0 0h24v24H0V0z\" fill=\"none\"/>\n",
              "    <path d=\"M18.56 5.44l.94 2.06.94-2.06 2.06-.94-2.06-.94-.94-2.06-.94 2.06-2.06.94zm-11 1L8.5 8.5l.94-2.06 2.06-.94-2.06-.94L8.5 2.5l-.94 2.06-2.06.94zm10 10l.94 2.06.94-2.06 2.06-.94-2.06-.94-.94-2.06-.94 2.06-2.06.94z\"/><path d=\"M17.41 7.96l-1.37-1.37c-.4-.4-.92-.59-1.43-.59-.52 0-1.04.2-1.43.59L10.3 9.45l-7.72 7.72c-.78.78-.78 2.05 0 2.83L4 21.41c.39.39.9.59 1.41.59.51 0 1.02-.2 1.41-.59l7.78-7.78 2.81-2.81c.8-.78.8-2.07 0-2.86zM5.41 20L4 18.59l7.72-7.72 1.47 1.35L5.41 20z\"/>\n",
              "  </svg>\n",
              "      </button>\n",
              "      \n",
              "  <style>\n",
              "    .colab-df-container {\n",
              "      display:flex;\n",
              "      flex-wrap:wrap;\n",
              "      gap: 12px;\n",
              "    }\n",
              "\n",
              "    .colab-df-convert {\n",
              "      background-color: #E8F0FE;\n",
              "      border: none;\n",
              "      border-radius: 50%;\n",
              "      cursor: pointer;\n",
              "      display: none;\n",
              "      fill: #1967D2;\n",
              "      height: 32px;\n",
              "      padding: 0 0 0 0;\n",
              "      width: 32px;\n",
              "    }\n",
              "\n",
              "    .colab-df-convert:hover {\n",
              "      background-color: #E2EBFA;\n",
              "      box-shadow: 0px 1px 2px rgba(60, 64, 67, 0.3), 0px 1px 3px 1px rgba(60, 64, 67, 0.15);\n",
              "      fill: #174EA6;\n",
              "    }\n",
              "\n",
              "    [theme=dark] .colab-df-convert {\n",
              "      background-color: #3B4455;\n",
              "      fill: #D2E3FC;\n",
              "    }\n",
              "\n",
              "    [theme=dark] .colab-df-convert:hover {\n",
              "      background-color: #434B5C;\n",
              "      box-shadow: 0px 1px 3px 1px rgba(0, 0, 0, 0.15);\n",
              "      filter: drop-shadow(0px 1px 2px rgba(0, 0, 0, 0.3));\n",
              "      fill: #FFFFFF;\n",
              "    }\n",
              "  </style>\n",
              "\n",
              "      <script>\n",
              "        const buttonEl =\n",
              "          document.querySelector('#df-8cbb1656-d4a0-4ef4-bcbf-3fe8e0cb16a7 button.colab-df-convert');\n",
              "        buttonEl.style.display =\n",
              "          google.colab.kernel.accessAllowed ? 'block' : 'none';\n",
              "\n",
              "        async function convertToInteractive(key) {\n",
              "          const element = document.querySelector('#df-8cbb1656-d4a0-4ef4-bcbf-3fe8e0cb16a7');\n",
              "          const dataTable =\n",
              "            await google.colab.kernel.invokeFunction('convertToInteractive',\n",
              "                                                     [key], {});\n",
              "          if (!dataTable) return;\n",
              "\n",
              "          const docLinkHtml = 'Like what you see? Visit the ' +\n",
              "            '<a target=\"_blank\" href=https://colab.research.google.com/notebooks/data_table.ipynb>data table notebook</a>'\n",
              "            + ' to learn more about interactive tables.';\n",
              "          element.innerHTML = '';\n",
              "          dataTable['output_type'] = 'display_data';\n",
              "          await google.colab.output.renderOutput(dataTable, element);\n",
              "          const docLink = document.createElement('div');\n",
              "          docLink.innerHTML = docLinkHtml;\n",
              "          element.appendChild(docLink);\n",
              "        }\n",
              "      </script>\n",
              "    </div>\n",
              "  </div>\n",
              "  "
            ]
          },
          "metadata": {},
          "execution_count": 3
        }
      ]
    },
    {
      "cell_type": "code",
      "source": [
        "x = a_df[\"x1\"]\n",
        "y= a_df[\"y1\"]\n",
        "\n",
        "\n",
        "#finding the line of best fit\n",
        "a, b = np.polyfit(x, y, 1)\n",
        "\n",
        "z= a*x+b \n",
        "\n",
        "plt.scatter(x,y)\n",
        "\n",
        "#adding the line of best fit to the plot\n",
        "plt.plot(x,z, \"r\" )\n",
        "plt.title(\"x1 vs y1\")\n",
        "\n",
        "\n",
        "plt.show()"
      ],
      "metadata": {
        "id": "LrVnxCUD3fJB",
        "colab": {
          "base_uri": "https://localhost:8080/",
          "height": 281
        },
        "outputId": "001e22a2-dc8b-4056-a0cc-6c710d2f8d82"
      },
      "execution_count": 29,
      "outputs": [
        {
          "output_type": "display_data",
          "data": {
            "text/plain": [
              "<Figure size 432x288 with 1 Axes>"
            ],
            "image/png": "[encoded data removed]"
          },
          "metadata": {
            "needs_background": "light"
          }
        }
      ]
    },
    {
      "cell_type": "code",
      "source": [
        "x = a_df[\"x2\"]\n",
        "y= a_df[\"y2\"]\n",
        "\n",
        "\n",
        "#finding the line of best fit\n",
        "a, b = np.polyfit(x, y, 1)\n",
        "\n",
        "z= a*x+b \n",
        "\n",
        "plt.scatter(x,y)\n",
        "\n",
        "#adding the line of best fit to the plot\n",
        "plt.plot(x,z, \"g\" )\n",
        "plt.title(\"x2 vs y2\")\n",
        "\n",
        "\n",
        "plt.show()"
      ],
      "metadata": {
        "colab": {
          "base_uri": "https://localhost:8080/",
          "height": 281
        },
        "id": "2IhZymOuPlx2",
        "outputId": "2fd01557-539e-4790-c603-a63f24a85b28"
      },
      "execution_count": 28,
      "outputs": [
        {
          "output_type": "display_data",
          "data": {
            "text/plain": [
              "<Figure size 432x288 with 1 Axes>"
            ],
            "image/png": "[encoded data removed]"
          },
          "metadata": {
            "needs_background": "light"
          }
        }
      ]
    },
    {
      "cell_type": "code",
      "source": [
        "x = a_df[\"x3\"]\n",
        "y= a_df[\"y3\"]\n",
        "\n",
        "\n",
        "#finding the line of best fit\n",
        "a, b = np.polyfit(x, y, 1)\n",
        "\n",
        "z= a*x+b \n",
        "\n",
        "plt.scatter(x,y)\n",
        "\n",
        "#adding the line of best fit to the plot\n",
        "plt.plot(x,z, \"b\" )\n",
        "plt.title(\"x3 vs y3\")\n",
        "\n",
        "\n",
        "plt.show()"
      ],
      "metadata": {
        "colab": {
          "base_uri": "https://localhost:8080/",
          "height": 281
        },
        "id": "KQUJLAGEPmp1",
        "outputId": "f2be88ef-f3ed-4822-94f0-d29e526d2962"
      },
      "execution_count": 30,
      "outputs": [
        {
          "output_type": "display_data",
          "data": {
            "text/plain": [
              "<Figure size 432x288 with 1 Axes>"
            ],
            "image/png": "[encoded data removed]"
          },
          "metadata": {
            "needs_background": "light"
          }
        }
      ]
    },
    {
      "cell_type": "code",
      "source": [
        "x = a_df[\"x4\"]\n",
        "y= a_df[\"y4\"]\n",
        "\n",
        "\n",
        "#finding the line of best fit\n",
        "a, b = np.polyfit(x, y, 1)\n",
        "\n",
        "z= a*x+b \n",
        "\n",
        "u= plt.scatter(x,y)\n",
        "\n",
        "#adding the line of best fit to the plot\n",
        "v= plt.plot(x,z, \"purple\" )\n",
        "plt.title(\"x4 vs y4\")\n",
        "\n",
        "\n",
        "plt.show(u, v)"
      ],
      "metadata": {
        "colab": {
          "base_uri": "https://localhost:8080/",
          "height": 281
        },
        "id": "unSarphaPnJL",
        "outputId": "48d9d8a0-bd2e-4c6d-ab0b-af2687ea4de0"
      },
      "execution_count": 27,
      "outputs": [
        {
          "output_type": "display_data",
          "data": {
            "text/plain": [
              "<Figure size 432x288 with 1 Axes>"
            ],
            "image/png": "[encoded data removed]"
          },
          "metadata": {
            "needs_background": "light"
          }
        }
      ]
    },
    {
      "cell_type": "code",
      "source": [
        "#creating a subplot\n",
        "\n",
        "x = a_df[\"x1\"]\n",
        "y= a_df[\"y1\"]\n",
        "c = a_df[\"x2\"]\n",
        "d= a_df[\"y2\"]\n",
        "e = a_df[\"x3\"]\n",
        "f= a_df[\"y3\"]\n",
        "g= a_df[\"x4\"]\n",
        "h= a_df[\"y4\"]\n",
        "\n",
        "\n",
        "#finding the line of best fit\n",
        "m, n = np.polyfit(x, y, 1)\n",
        "o, p= np.polyfit(c, d, 1)\n",
        "q, r  = np.polyfit(e, f, 1)\n",
        "s, t = np.polyfit(g, h, 1)\n",
        "\n",
        "\n",
        "i= m*x+n \n",
        "j= o*c+p \n",
        "k= q*e+r \n",
        "l= s*g+t \n",
        "\n",
        "\n",
        "\n",
        "#adding the line of best fit to the plot\n",
        "\n",
        "\n",
        "plt.subplot(2,2,1)\n",
        "plt.scatter(x,y)\n",
        "plt.plot(x, i)\n",
        "plt.xlabel(\"x1\")\n",
        "plt.ylabel(\"y1\")\n",
        "plt.title(\"x1 vs y1\")\n",
        "\n",
        "plt.subplot(2,2,2)\n",
        "plt.scatter(c, d)\n",
        "plt.plot(c, j, \"g\")\n",
        "plt.xlabel(\"x2\")\n",
        "plt.ylabel(\"y2\")\n",
        "plt.title(\"x2 vs y2\")\n",
        "\n",
        "plt.subplot(2,2,3)\n",
        "plt.scatter(e, f)\n",
        "plt.plot(e, k, \"b\")\n",
        "plt.xlabel(\"x3\")\n",
        "plt.ylabel(\"y3\")\n",
        "plt.title(\"x3 vs y3\")\n",
        "\n",
        "\n",
        "plt.subplot(2,2,4)\n",
        "plt.scatter(g, h)\n",
        "plt.plot(g, l, \"r\")\n",
        "plt.xlabel(\"x4\")\n",
        "plt.ylabel(\"y4\")\n",
        "plt.title(\"x4 vs y4\")\n",
        "plt.subplots_adjust(wspace=0.5, hspace= 0.5,  bottom= 0, top=1, )\n",
        "\n",
        "plt.show()\n"
      ],
      "metadata": {
        "colab": {
          "base_uri": "https://localhost:8080/",
          "height": 366
        },
        "id": "G8mI9q8Z9ExA",
        "outputId": "222bca6a-b0ff-464f-f29f-7403f5422851"
      },
      "execution_count": 44,
      "outputs": [
        {
          "output_type": "display_data",
          "data": {
            "text/plain": [
              "<Figure size 432x288 with 4 Axes>"
            ],
            "image/png": "[encoded data removed]"
          },
          "metadata": {
            "needs_background": "light"
          }
        }
      ]
    },
    {
      "cell_type": "code",
      "source": [
        "#trying other method\n",
        "#method\n",
        "\n",
        "#creating a subplot\n",
        "\n",
        "x = a_df[\"x1\"]\n",
        "y= a_df[\"y1\"]\n",
        "c = a_df[\"x2\"]\n",
        "d= a_df[\"y2\"]\n",
        "e = a_df[\"x3\"]\n",
        "f= a_df[\"y3\"]\n",
        "g= a_df[\"x4\"]\n",
        "h= a_df[\"y4\"]\n",
        "\n",
        "\n",
        "#finding the line of best fit\n",
        "m, n = np.polyfit(x, y, 1)\n",
        "o, p= np.polyfit(c, d, 1)\n",
        "q, r  = np.polyfit(e, f, 1)\n",
        "s, t = np.polyfit(g, h, 1)\n",
        "\n",
        "\n",
        "i= m*x+n \n",
        "j= o*c+p \n",
        "k= q*e+r \n",
        "l= s*g+t \n",
        "\n",
        "\n",
        "\n",
        "#adding the line of best fit to the plot\n",
        "\n",
        "fig, ((ax1, ax2), (ax3, ax4))= plt.subplots(nrows=2, ncols=2, figsize=(10, 6))\n",
        "\n",
        "\n",
        "ax1.scatter(x,y)\n",
        "ax1.plot(x, i)\n",
        "ax1.set_xlabel(\"x1\")\n",
        "ax1.set_ylabel(\"y1\")\n",
        "ax1.set_title(\"x1 vs y1\")\n",
        "\n",
        "\n",
        "ax2.scatter(c, d)\n",
        "ax2.plot(c, j, \"g\")\n",
        "ax2.set_xlabel(\"x2\")\n",
        "ax2.set_ylabel(\"y2\")\n",
        "ax2.set_title(\"x2 vs y2\")\n",
        "\n",
        "\n",
        "ax3.scatter(e, f)\n",
        "ax3.plot(e, k, \"b\")\n",
        "ax3.set_xlabel(\"x3\")\n",
        "ax3.set_ylabel(\"y3\")\n",
        "ax3.set_title(\"x3 vs y3\")\n",
        "\n",
        "\n",
        "ax4.scatter(g, h)\n",
        "ax4.plot(g, l, \"r\")\n",
        "ax4.set_xlabel(\"x4\")\n",
        "ax4.set_ylabel(\"y4\")\n",
        "ax4.set_title(\"x4 vs y4\")\n",
        "\n",
        "plt.subplots_adjust(wspace=0.5, hspace= 0.5,  bottom= 0.1, top=1)\n",
        "\n",
        "plt.show()\n",
        "\n",
        "\n"
      ],
      "metadata": {
        "colab": {
          "base_uri": "https://localhost:8080/",
          "height": 467
        },
        "id": "G2DtnJ3joQQN",
        "outputId": "06718bf9-64cc-45cd-9b24-1e4e5257506e"
      },
      "execution_count": 38,
      "outputs": [
        {
          "output_type": "display_data",
          "data": {
            "text/plain": [
              "<Figure size 720x432 with 4 Axes>"
            ],
            "image/png": "[encoded data removed]"
          },
          "metadata": {
            "needs_background": "light"
          }
        }
      ]
    },
    {
      "cell_type": "code",
      "source": [
        "#trying with another method\n",
        "\n",
        "fig = plt.figure(figsize=(8,6))\n",
        "\n",
        "\n",
        "x = a_df[\"x1\"]\n",
        "y= a_df[\"y1\"]\n",
        "c = a_df[\"x2\"]\n",
        "d= a_df[\"y2\"]\n",
        "e = a_df[\"x3\"]\n",
        "f= a_df[\"y3\"]\n",
        "g= a_df[\"x4\"]\n",
        "h= a_df[\"y4\"]\n",
        "\n",
        "\n",
        "#finding the line of best fit for the lines\n",
        "m, n = np.polyfit(x, y, 1)\n",
        "o, p= np.polyfit(c, d, 1)\n",
        "q, r  = np.polyfit(e, f, 1)\n",
        "s, t = np.polyfit(g, h, 1)\n",
        "\n",
        "\n",
        "#adding the line of best fit to the plot\n",
        "i= m*x+n \n",
        "j= o*c+p \n",
        "k= q*e+r \n",
        "l= s*g+t \n",
        "\n",
        "\n",
        "ax1= fig.add_subplot(221, title= \"x1 vs y1\")\n",
        "ax1.scatter(x, y)\n",
        "ax1.plot(x, i)\n",
        "ax1.set_xlabel(\"x1\")\n",
        "ax1.set_ylabel(\"y1\")\n",
        "\n",
        "ax2= fig.add_subplot(222, title= \"x2 vs y2\")\n",
        "ax2.scatter(c, d)\n",
        "ax2.plot(c, j, \"g\")\n",
        "ax2.set_xlabel(\"x2\")\n",
        "ax2.set_ylabel(\"y2\")\n",
        "\n",
        "ax3= fig.add_subplot(223, title= \"x3 vs y3\")\n",
        "ax3.scatter(e, f)\n",
        "ax3.plot(e, k, \"b\")\n",
        "ax3.set_xlabel(\"x3\")\n",
        "ax3.set_ylabel(\"y3\")\n",
        "\n",
        "ax4= fig.add_subplot(224, title= \"x4 vs y4\")\n",
        "ax4.scatter(g, h)\n",
        "ax4.plot(g, l, \"r\")\n",
        "ax4.set_xlabel(\"x4\")\n",
        "ax4.set_ylabel(\"y4\")\n",
        "\n",
        "\n",
        "plt.subplots_adjust(wspace=0.5, hspace= 0.5,  bottom= 0.1, top=1)\n",
        "\n",
        "\n",
        "\n",
        "\n",
        "\n"
      ],
      "metadata": {
        "colab": {
          "base_uri": "https://localhost:8080/",
          "height": 467
        },
        "id": "CEgJi7ONoNpg",
        "outputId": "2fdb0a78-dfdb-456c-ff97-ef95c9beaa57"
      },
      "execution_count": 41,
      "outputs": [
        {
          "output_type": "display_data",
          "data": {
            "text/plain": [
              "<Figure size 576x432 with 4 Axes>"
            ],
            "image/png": "[encoded data removed]"
          },
          "metadata": {
            "needs_background": "light"
          }
        }
      ]
    }
  ]
}